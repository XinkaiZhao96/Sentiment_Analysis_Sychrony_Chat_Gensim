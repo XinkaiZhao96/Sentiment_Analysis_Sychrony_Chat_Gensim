{
 "cells": [
  {
   "cell_type": "markdown",
   "metadata": {},
   "source": [
    "# Unsupervised Sentiment Analysis with Sychrony Chat Data \n",
    "\n",
    "### Author: Li Cao, Yixiao Xiong, Xinkai Zhao"
   ]
  },
  {
   "cell_type": "markdown",
   "metadata": {
    "id": "WRSqiUpaduFE"
   },
   "source": [
    "## Data Cleaning and Data Manipulation"
   ]
  },
  {
   "cell_type": "code",
   "execution_count": 59,
   "metadata": {
    "colab": {
     "base_uri": "https://localhost:8080/"
    },
    "id": "vx-429swLf1S",
    "outputId": "44b428a4-520d-4fb0-f8c2-a9d7a086baea"
   },
   "outputs": [],
   "source": [
    "import warnings\n",
    "warnings.simplefilter(action='ignore', category=FutureWarning)\n",
    "\n",
    "import pandas as pd\n",
    "import numpy as np\n",
    "import re\n",
    "import matplotlib.pyplot as plt\n",
    "import seaborn as sns\n",
    "from matplotlib.ticker import PercentFormatter\n",
    "\n",
    "import gensim\n",
    "from gensim.utils import simple_preprocess\n",
    "from gensim.parsing.preprocessing import STOPWORDS\n",
    "from gensim.models.phrases import Phrases, Phraser\n",
    "from gensim.models import Word2Vec\n",
    "from gensim.test.utils import get_tmpfile\n",
    "from gensim.models import KeyedVectors\n",
    "\n",
    "import nltk\n",
    "from nltk.stem import WordNetLemmatizer, SnowballStemmer\n",
    "from nltk.corpus import stopwords\n",
    "from nltk.tokenize import word_tokenize\n",
    "from nltk.stem.porter import PorterStemmer\n",
    "ps = PorterStemmer()\n",
    "\n",
    "import multiprocessing\n",
    "from sklearn.cluster import KMeans\n",
    "#from sklearn.cluster import MiniBatchKMeans\n",
    "from sklearn.feature_extraction.text import TfidfVectorizer\n",
    "#from sklearn.metrics import silhouette_score, silhouette_samples\n",
    "from sklearn.metrics import confusion_matrix"
   ]
  },
  {
   "cell_type": "code",
   "execution_count": 4,
   "metadata": {},
   "outputs": [],
   "source": [
    "day2 = pd.read_excel('Day2.xlsx')\n",
    "day4 = pd.read_excel('day4.xlsx')\n",
    "day5 = pd.read_excel('day5.xlsx')\n",
    "day6 = pd.read_excel('day6.xlsx')"
   ]
  },
  {
   "cell_type": "code",
   "execution_count": 5,
   "metadata": {},
   "outputs": [
    {
     "data": {
      "text/plain": [
       "(3571711, 9)"
      ]
     },
     "execution_count": 5,
     "metadata": {},
     "output_type": "execute_result"
    }
   ],
   "source": [
    "df1 = pd.concat([day2, day4, day5, day6],ignore_index=True)\n",
    "df1.shape"
   ]
  },
  {
   "cell_type": "code",
   "execution_count": 6,
   "metadata": {},
   "outputs": [
    {
     "data": {
      "text/plain": [
       "(2740304, 9)"
      ]
     },
     "execution_count": 6,
     "metadata": {},
     "output_type": "execute_result"
    }
   ],
   "source": [
    "dfall = df1.drop_duplicates(ignore_index=True)\n",
    "dfall.shape"
   ]
  },
  {
   "cell_type": "code",
   "execution_count": 7,
   "metadata": {},
   "outputs": [
    {
     "name": "stderr",
     "output_type": "stream",
     "text": [
      "E:\\miniconda3\\lib\\site-packages\\pandas\\core\\indexing.py:1773: SettingWithCopyWarning: \n",
      "A value is trying to be set on a copy of a slice from a DataFrame.\n",
      "Try using .loc[row_indexer,col_indexer] = value instead\n",
      "\n",
      "See the caveats in the documentation: https://pandas.pydata.org/pandas-docs/stable/user_guide/indexing.html#returning-a-view-versus-a-copy\n",
      "  self._setitem_single_column(ilocs[0], value, pi)\n",
      "E:\\miniconda3\\lib\\site-packages\\pandas\\core\\indexing.py:1773: SettingWithCopyWarning: \n",
      "A value is trying to be set on a copy of a slice from a DataFrame.\n",
      "Try using .loc[row_indexer,col_indexer] = value instead\n",
      "\n",
      "See the caveats in the documentation: https://pandas.pydata.org/pandas-docs/stable/user_guide/indexing.html#returning-a-view-versus-a-copy\n",
      "  self._setitem_single_column(ilocs[0], value, pi)\n"
     ]
    }
   ],
   "source": [
    "dfall.loc[:,'DATE_TIME'] = pd.to_datetime(dfall['DATE_TIME'])\n",
    "dfall.loc[:,'END_DATE_TIME'] = pd.to_datetime(dfall['END_DATE_TIME'])"
   ]
  },
  {
   "cell_type": "code",
   "execution_count": 8,
   "metadata": {},
   "outputs": [
    {
     "data": {
      "text/plain": [
       "DATE_TIME                0\n",
       "END_DATE_TIME            0\n",
       "IVA_CHAT_ID              0\n",
       "CHAT_TYPE                0\n",
       "CLIENT_ID                0\n",
       "LOGIN_STATE              0\n",
       "IVA_CHAT_REASON    1017617\n",
       "INPUT               668205\n",
       "RESPONSE            704314\n",
       "dtype: int64"
      ]
     },
     "execution_count": 8,
     "metadata": {},
     "output_type": "execute_result"
    }
   ],
   "source": [
    "dfall.isnull().sum()"
   ]
  },
  {
   "cell_type": "code",
   "execution_count": 9,
   "metadata": {},
   "outputs": [],
   "source": [
    "df = dfall[dfall['INPUT'].notna()]\n",
    "df = df[df['INPUT']!='****']"
   ]
  },
  {
   "cell_type": "code",
   "execution_count": 10,
   "metadata": {},
   "outputs": [],
   "source": [
    "df.loc[:,'calltime'] = df['END_DATE_TIME'] - df['DATE_TIME']\n",
    "df.loc[:,'calltime'] = df['calltime'].dt.total_seconds()"
   ]
  },
  {
   "cell_type": "code",
   "execution_count": 11,
   "metadata": {},
   "outputs": [
    {
     "data": {
      "text/plain": [
       "Deflected    1405296\n",
       "LiveChat      647223\n",
       "Error           1468\n",
       "Name: CHAT_TYPE, dtype: int64"
      ]
     },
     "execution_count": 11,
     "metadata": {},
     "output_type": "execute_result"
    }
   ],
   "source": [
    "df['CHAT_TYPE'].value_counts()"
   ]
  },
  {
   "cell_type": "code",
   "execution_count": 12,
   "metadata": {},
   "outputs": [],
   "source": [
    "df = df.loc[df['CHAT_TYPE'] != 'Error']"
   ]
  },
  {
   "cell_type": "code",
   "execution_count": 13,
   "metadata": {},
   "outputs": [
    {
     "data": {
      "text/plain": [
       "0"
      ]
     },
     "execution_count": 13,
     "metadata": {},
     "output_type": "execute_result"
    }
   ],
   "source": [
    "df['INPUT'].isnull().sum()"
   ]
  },
  {
   "cell_type": "markdown",
   "metadata": {},
   "source": [
    "## Descriptive Analytics"
   ]
  },
  {
   "cell_type": "code",
   "execution_count": 14,
   "metadata": {},
   "outputs": [],
   "source": [
    "singlechatdf = df.drop_duplicates(subset = ['IVA_CHAT_ID'],ignore_index=True)"
   ]
  },
  {
   "cell_type": "code",
   "execution_count": 15,
   "metadata": {},
   "outputs": [
    {
     "data": {
      "text/plain": [
       "Deflected    82.343853\n",
       "LiveChat     17.656147\n",
       "Name: CHAT_TYPE, dtype: float64"
      ]
     },
     "execution_count": 15,
     "metadata": {},
     "output_type": "execute_result"
    }
   ],
   "source": [
    "deflive = singlechatdf['CHAT_TYPE'].value_counts()*100/len(singlechatdf)\n",
    "deflive"
   ]
  },
  {
   "cell_type": "code",
   "execution_count": 16,
   "metadata": {},
   "outputs": [
    {
     "data": {
      "image/png": "[encoded data removed]",
      "text/plain": [
       "<Figure size 432x288 with 1 Axes>"
      ]
     },
     "metadata": {
      "needs_background": "light"
     },
     "output_type": "display_data"
    },
    {
     "data": {
      "text/plain": [
       "<Figure size 432x288 with 0 Axes>"
      ]
     },
     "metadata": {},
     "output_type": "display_data"
    }
   ],
   "source": [
    "chat_type = ['Deflected','LiveChat']\n",
    "percent = [82.3,17.7]\n",
    "\n",
    "bars = plt.bar(chat_type, percent, color=['pink','purple'], width= 0.5, align = 'center')\n",
    "plt.xlabel('Chat Type', fontsize=14)\n",
    "plt.ylabel('Percentage', fontsize=14)\n",
    "plt.rcParams['xtick.top'] = plt.rcParams['xtick.labeltop'] = False\n",
    "for bar in bars:\n",
    "    yval = bar.get_height()\n",
    "    plt.text(bar.get_x() + 0.25, yval + 0.01, yval)\n",
    "plt.show()\n",
    "plt.savefig('chattype.png')"
   ]
  },
  {
   "cell_type": "code",
   "execution_count": 17,
   "metadata": {},
   "outputs": [
    {
     "data": {
      "text/plain": [
       "CLIENT_ID      \n",
       "Consumer Center    17.943942\n",
       "Amazon             16.310748\n",
       "PayPal Credit      16.247186\n",
       "Lowes               9.604502\n",
       "Sams                9.451335\n",
       "dtype: float64"
      ]
     },
     "execution_count": 17,
     "metadata": {},
     "output_type": "execute_result"
    }
   ],
   "source": [
    "callinpercent = singlechatdf.value_counts(['CLIENT_ID'])*100/len(singlechatdf)\n",
    "callinpercent.head(5)"
   ]
  },
  {
   "cell_type": "code",
   "execution_count": 18,
   "metadata": {},
   "outputs": [],
   "source": [
    "pie = callinpercent.reset_index()\n",
    "pie.columns = ['CLIENT_ID','Percent']\n",
    "\n",
    "pie3 = callinpercent.reset_index()\n",
    "pie3.columns = ['CLIENT_ID','Percent']\n",
    "\n",
    "pie2 = pie.iloc[0:10,]\n",
    "pie2.at[9,'CLIENT_ID'] = 'Other 28 companies'\n",
    "pie2.at[9,'Percent'] = 12.299713"
   ]
  },
  {
   "cell_type": "code",
   "execution_count": 19,
   "metadata": {},
   "outputs": [
    {
     "data": {
      "image/png": "[encoded data removed]",
      "text/plain": [
       "<Figure size 432x288 with 1 Axes>"
      ]
     },
     "metadata": {},
     "output_type": "display_data"
    }
   ],
   "source": [
    "fig1, ax1 = plt.subplots()\n",
    "ax1.pie(pie2['Percent'], labels=pie2['CLIENT_ID'], colors = sns.color_palette(\"Paired\")[0:10], autopct='%1.1f%%',\n",
    "        shadow=True, startangle=90)\n",
    "ax1.axis('equal') \n",
    "plt.show()"
   ]
  },
  {
   "cell_type": "code",
   "execution_count": 20,
   "metadata": {},
   "outputs": [
    {
     "data": {
      "image/png": "[encoded data removed]",
      "text/plain": [
       "<Figure size 432x288 with 2 Axes>"
      ]
     },
     "metadata": {},
     "output_type": "display_data"
    }
   ],
   "source": [
    "color1 = 'pink'\n",
    "color2 = 'purple'\n",
    "line_size = 4\n",
    "\n",
    "pie3['cumperc'] = pie3['Percent'].cumsum()\n",
    "\n",
    "fig, ax = plt.subplots()\n",
    "ax.bar(pie3.index, pie3['Percent'], color=color1)\n",
    "\n",
    "ax2 = ax.twinx()\n",
    "ax2.plot(pie3.index, pie3['cumperc'], color=color2, marker=\"D\", ms=line_size)\n",
    "ax2.yaxis.set_major_formatter(PercentFormatter())\n",
    "\n",
    "#specify axis colors\n",
    "ax.tick_params(axis='y', colors=color1)\n",
    "ax2.tick_params(axis='y', colors=color2)\n",
    "\n",
    "x_pos = np.arange(len(pie3))\n",
    "plt.xticks(x_pos,pie3['CLIENT_ID'])\n",
    "\n",
    "for tick in ax.get_xticklabels():\n",
    "    tick.set_rotation(90)\n",
    "#display Pareto chart\n",
    "\n",
    "plt.show()\n",
    "#fig.savefig('test3png.png')\n",
    "\n",
    "#plt.savefig('pareto1.png')"
   ]
  },
  {
   "cell_type": "code",
   "execution_count": 21,
   "metadata": {},
   "outputs": [
    {
     "data": {
      "text/plain": [
       "CLIENT_ID          CHAT_TYPE\n",
       "AEO                Deflected     1996\n",
       "                   LiveChat       268\n",
       "Amazon             Deflected    31951\n",
       "                   LiveChat      5001\n",
       "At Home            Deflected      415\n",
       "                                ...  \n",
       "Verizon Visa Card  LiveChat       327\n",
       "Walgreens          Deflected      396\n",
       "                   LiveChat        49\n",
       "Zulily             Deflected      892\n",
       "                   LiveChat        97\n",
       "Length: 71, dtype: int64"
      ]
     },
     "execution_count": 21,
     "metadata": {},
     "output_type": "execute_result"
    }
   ],
   "source": [
    "clientdf = singlechatdf.groupby(['CLIENT_ID', 'CHAT_TYPE']).size()\n",
    "clientdf"
   ]
  },
  {
   "cell_type": "code",
   "execution_count": 22,
   "metadata": {},
   "outputs": [
    {
     "data": {
      "text/plain": [
       "CLIENT_ID          CHAT_TYPE\n",
       "AEO                Deflected    88.162544\n",
       "                   LiveChat     11.837456\n",
       "Amazon             Deflected    86.466226\n",
       "                   LiveChat     13.533774\n",
       "At Home            Deflected    88.486141\n",
       "                                  ...    \n",
       "Verizon Visa Card  LiveChat     16.228288\n",
       "Walgreens          Deflected    88.988764\n",
       "                   LiveChat     11.011236\n",
       "Zulily             Deflected    90.192113\n",
       "                   LiveChat      9.807887\n",
       "Length: 71, dtype: float64"
      ]
     },
     "execution_count": 22,
     "metadata": {},
     "output_type": "execute_result"
    }
   ],
   "source": [
    "deflectpercent = clientdf*100/singlechatdf.groupby(['CLIENT_ID']).size()\n",
    "deflectpercent"
   ]
  },
  {
   "cell_type": "code",
   "execution_count": 23,
   "metadata": {},
   "outputs": [
    {
     "data": {
      "text/html": [
       "<div>\n",
       "<style scoped>\n",
       "    .dataframe tbody tr th:only-of-type {\n",
       "        vertical-align: middle;\n",
       "    }\n",
       "\n",
       "    .dataframe tbody tr th {\n",
       "        vertical-align: top;\n",
       "    }\n",
       "\n",
       "    .dataframe thead th {\n",
       "        text-align: right;\n",
       "    }\n",
       "</style>\n",
       "<table border=\"1\" class=\"dataframe\">\n",
       "  <thead>\n",
       "    <tr style=\"text-align: right;\">\n",
       "      <th></th>\n",
       "      <th>CLIENT_ID</th>\n",
       "      <th>CHAT_TYPE</th>\n",
       "      <th>Percent</th>\n",
       "    </tr>\n",
       "  </thead>\n",
       "  <tbody>\n",
       "    <tr>\n",
       "      <th>0</th>\n",
       "      <td>OneTravel</td>\n",
       "      <td>Deflected</td>\n",
       "      <td>100.000000</td>\n",
       "    </tr>\n",
       "    <tr>\n",
       "      <th>1</th>\n",
       "      <td>BNPL</td>\n",
       "      <td>Deflected</td>\n",
       "      <td>100.000000</td>\n",
       "    </tr>\n",
       "    <tr>\n",
       "      <th>2</th>\n",
       "      <td>Infiniti</td>\n",
       "      <td>Deflected</td>\n",
       "      <td>100.000000</td>\n",
       "    </tr>\n",
       "    <tr>\n",
       "      <th>3</th>\n",
       "      <td>Cathay</td>\n",
       "      <td>Deflected</td>\n",
       "      <td>94.285714</td>\n",
       "    </tr>\n",
       "    <tr>\n",
       "      <th>4</th>\n",
       "      <td>TRU</td>\n",
       "      <td>Deflected</td>\n",
       "      <td>90.978078</td>\n",
       "    </tr>\n",
       "    <tr>\n",
       "      <th>...</th>\n",
       "      <td>...</td>\n",
       "      <td>...</td>\n",
       "      <td>...</td>\n",
       "    </tr>\n",
       "    <tr>\n",
       "      <th>66</th>\n",
       "      <td>Rakuten</td>\n",
       "      <td>LiveChat</td>\n",
       "      <td>10.276680</td>\n",
       "    </tr>\n",
       "    <tr>\n",
       "      <th>67</th>\n",
       "      <td>Zulily</td>\n",
       "      <td>LiveChat</td>\n",
       "      <td>9.807887</td>\n",
       "    </tr>\n",
       "    <tr>\n",
       "      <th>68</th>\n",
       "      <td>Harbor Freight Tools</td>\n",
       "      <td>LiveChat</td>\n",
       "      <td>9.520000</td>\n",
       "    </tr>\n",
       "    <tr>\n",
       "      <th>69</th>\n",
       "      <td>TRU</td>\n",
       "      <td>LiveChat</td>\n",
       "      <td>9.021922</td>\n",
       "    </tr>\n",
       "    <tr>\n",
       "      <th>70</th>\n",
       "      <td>Cathay</td>\n",
       "      <td>LiveChat</td>\n",
       "      <td>5.714286</td>\n",
       "    </tr>\n",
       "  </tbody>\n",
       "</table>\n",
       "<p>71 rows × 3 columns</p>\n",
       "</div>"
      ],
      "text/plain": [
       "               CLIENT_ID  CHAT_TYPE     Percent\n",
       "0              OneTravel  Deflected  100.000000\n",
       "1                   BNPL  Deflected  100.000000\n",
       "2               Infiniti  Deflected  100.000000\n",
       "3                 Cathay  Deflected   94.285714\n",
       "4                    TRU  Deflected   90.978078\n",
       "..                   ...        ...         ...\n",
       "66               Rakuten   LiveChat   10.276680\n",
       "67                Zulily   LiveChat    9.807887\n",
       "68  Harbor Freight Tools   LiveChat    9.520000\n",
       "69                   TRU   LiveChat    9.021922\n",
       "70                Cathay   LiveChat    5.714286\n",
       "\n",
       "[71 rows x 3 columns]"
      ]
     },
     "execution_count": 23,
     "metadata": {},
     "output_type": "execute_result"
    }
   ],
   "source": [
    "deff = deflectpercent.sort_values(ascending = False).reset_index()\n",
    "deff.columns = ['CLIENT_ID', 'CHAT_TYPE','Percent']\n",
    "deff"
   ]
  },
  {
   "cell_type": "code",
   "execution_count": 24,
   "metadata": {},
   "outputs": [
    {
     "data": {
      "text/html": [
       "<div>\n",
       "<style scoped>\n",
       "    .dataframe tbody tr th:only-of-type {\n",
       "        vertical-align: middle;\n",
       "    }\n",
       "\n",
       "    .dataframe tbody tr th {\n",
       "        vertical-align: top;\n",
       "    }\n",
       "\n",
       "    .dataframe thead th {\n",
       "        text-align: right;\n",
       "    }\n",
       "</style>\n",
       "<table border=\"1\" class=\"dataframe\">\n",
       "  <thead>\n",
       "    <tr style=\"text-align: right;\">\n",
       "      <th></th>\n",
       "      <th>CLIENT_ID</th>\n",
       "      <th>CHAT_TYPE</th>\n",
       "      <th>Percent</th>\n",
       "    </tr>\n",
       "  </thead>\n",
       "  <tbody>\n",
       "    <tr>\n",
       "      <th>0</th>\n",
       "      <td>OneTravel</td>\n",
       "      <td>Deflected</td>\n",
       "      <td>100.000000</td>\n",
       "    </tr>\n",
       "    <tr>\n",
       "      <th>1</th>\n",
       "      <td>BNPL</td>\n",
       "      <td>Deflected</td>\n",
       "      <td>100.000000</td>\n",
       "    </tr>\n",
       "    <tr>\n",
       "      <th>2</th>\n",
       "      <td>Infiniti</td>\n",
       "      <td>Deflected</td>\n",
       "      <td>100.000000</td>\n",
       "    </tr>\n",
       "    <tr>\n",
       "      <th>3</th>\n",
       "      <td>Cathay</td>\n",
       "      <td>Deflected</td>\n",
       "      <td>94.285714</td>\n",
       "    </tr>\n",
       "    <tr>\n",
       "      <th>4</th>\n",
       "      <td>TRU</td>\n",
       "      <td>Deflected</td>\n",
       "      <td>90.978078</td>\n",
       "    </tr>\n",
       "    <tr>\n",
       "      <th>5</th>\n",
       "      <td>Harbor Freight Tools</td>\n",
       "      <td>Deflected</td>\n",
       "      <td>90.480000</td>\n",
       "    </tr>\n",
       "    <tr>\n",
       "      <th>6</th>\n",
       "      <td>Zulily</td>\n",
       "      <td>Deflected</td>\n",
       "      <td>90.192113</td>\n",
       "    </tr>\n",
       "    <tr>\n",
       "      <th>7</th>\n",
       "      <td>Rakuten</td>\n",
       "      <td>Deflected</td>\n",
       "      <td>89.723320</td>\n",
       "    </tr>\n",
       "    <tr>\n",
       "      <th>8</th>\n",
       "      <td>Belk</td>\n",
       "      <td>Deflected</td>\n",
       "      <td>89.506494</td>\n",
       "    </tr>\n",
       "    <tr>\n",
       "      <th>9</th>\n",
       "      <td>Walgreens</td>\n",
       "      <td>Deflected</td>\n",
       "      <td>88.988764</td>\n",
       "    </tr>\n",
       "    <tr>\n",
       "      <th>10</th>\n",
       "      <td>JCP</td>\n",
       "      <td>Deflected</td>\n",
       "      <td>88.504858</td>\n",
       "    </tr>\n",
       "    <tr>\n",
       "      <th>11</th>\n",
       "      <td>At Home</td>\n",
       "      <td>Deflected</td>\n",
       "      <td>88.486141</td>\n",
       "    </tr>\n",
       "    <tr>\n",
       "      <th>12</th>\n",
       "      <td>TJX</td>\n",
       "      <td>Deflected</td>\n",
       "      <td>88.334888</td>\n",
       "    </tr>\n",
       "    <tr>\n",
       "      <th>13</th>\n",
       "      <td>AEO</td>\n",
       "      <td>Deflected</td>\n",
       "      <td>88.162544</td>\n",
       "    </tr>\n",
       "    <tr>\n",
       "      <th>14</th>\n",
       "      <td>ScoreRewards</td>\n",
       "      <td>Deflected</td>\n",
       "      <td>87.753304</td>\n",
       "    </tr>\n",
       "    <tr>\n",
       "      <th>15</th>\n",
       "      <td>OldNavy</td>\n",
       "      <td>Deflected</td>\n",
       "      <td>87.101837</td>\n",
       "    </tr>\n",
       "    <tr>\n",
       "      <th>16</th>\n",
       "      <td>Amazon</td>\n",
       "      <td>Deflected</td>\n",
       "      <td>86.466226</td>\n",
       "    </tr>\n",
       "    <tr>\n",
       "      <th>17</th>\n",
       "      <td>CheapOair</td>\n",
       "      <td>Deflected</td>\n",
       "      <td>86.178862</td>\n",
       "    </tr>\n",
       "    <tr>\n",
       "      <th>18</th>\n",
       "      <td>ShopHQ</td>\n",
       "      <td>Deflected</td>\n",
       "      <td>85.915493</td>\n",
       "    </tr>\n",
       "    <tr>\n",
       "      <th>19</th>\n",
       "      <td>Sams</td>\n",
       "      <td>Deflected</td>\n",
       "      <td>85.545489</td>\n",
       "    </tr>\n",
       "    <tr>\n",
       "      <th>20</th>\n",
       "      <td>Lowes</td>\n",
       "      <td>Deflected</td>\n",
       "      <td>85.422124</td>\n",
       "    </tr>\n",
       "    <tr>\n",
       "      <th>21</th>\n",
       "      <td>Steinmart</td>\n",
       "      <td>Deflected</td>\n",
       "      <td>85.365854</td>\n",
       "    </tr>\n",
       "    <tr>\n",
       "      <th>22</th>\n",
       "      <td>BP</td>\n",
       "      <td>Deflected</td>\n",
       "      <td>84.826133</td>\n",
       "    </tr>\n",
       "    <tr>\n",
       "      <th>23</th>\n",
       "      <td>Ebaycb</td>\n",
       "      <td>Deflected</td>\n",
       "      <td>84.754376</td>\n",
       "    </tr>\n",
       "    <tr>\n",
       "      <th>24</th>\n",
       "      <td>GAP</td>\n",
       "      <td>Deflected</td>\n",
       "      <td>84.003404</td>\n",
       "    </tr>\n",
       "    <tr>\n",
       "      <th>25</th>\n",
       "      <td>Verizon Visa Card</td>\n",
       "      <td>Deflected</td>\n",
       "      <td>83.771712</td>\n",
       "    </tr>\n",
       "    <tr>\n",
       "      <th>26</th>\n",
       "      <td>Athleta</td>\n",
       "      <td>Deflected</td>\n",
       "      <td>83.718372</td>\n",
       "    </tr>\n",
       "    <tr>\n",
       "      <th>27</th>\n",
       "      <td>BR</td>\n",
       "      <td>Deflected</td>\n",
       "      <td>83.342289</td>\n",
       "    </tr>\n",
       "    <tr>\n",
       "      <th>28</th>\n",
       "      <td>Nissan</td>\n",
       "      <td>Deflected</td>\n",
       "      <td>80.000000</td>\n",
       "    </tr>\n",
       "    <tr>\n",
       "      <th>29</th>\n",
       "      <td>PSCC-PLCC</td>\n",
       "      <td>Deflected</td>\n",
       "      <td>79.411765</td>\n",
       "    </tr>\n",
       "    <tr>\n",
       "      <th>30</th>\n",
       "      <td>CrateBarrel</td>\n",
       "      <td>Deflected</td>\n",
       "      <td>79.336188</td>\n",
       "    </tr>\n",
       "    <tr>\n",
       "      <th>31</th>\n",
       "      <td>PayPal Credit</td>\n",
       "      <td>Deflected</td>\n",
       "      <td>79.289828</td>\n",
       "    </tr>\n",
       "    <tr>\n",
       "      <th>32</th>\n",
       "      <td>Marvel</td>\n",
       "      <td>Deflected</td>\n",
       "      <td>77.777778</td>\n",
       "    </tr>\n",
       "    <tr>\n",
       "      <th>33</th>\n",
       "      <td>Google</td>\n",
       "      <td>Deflected</td>\n",
       "      <td>76.623377</td>\n",
       "    </tr>\n",
       "    <tr>\n",
       "      <th>34</th>\n",
       "      <td>Paypal</td>\n",
       "      <td>Deflected</td>\n",
       "      <td>73.045822</td>\n",
       "    </tr>\n",
       "    <tr>\n",
       "      <th>35</th>\n",
       "      <td>Consumer Center</td>\n",
       "      <td>Deflected</td>\n",
       "      <td>70.978058</td>\n",
       "    </tr>\n",
       "    <tr>\n",
       "      <th>36</th>\n",
       "      <td>Norwegian Reward</td>\n",
       "      <td>Deflected</td>\n",
       "      <td>50.000000</td>\n",
       "    </tr>\n",
       "  </tbody>\n",
       "</table>\n",
       "</div>"
      ],
      "text/plain": [
       "               CLIENT_ID  CHAT_TYPE     Percent\n",
       "0              OneTravel  Deflected  100.000000\n",
       "1                   BNPL  Deflected  100.000000\n",
       "2               Infiniti  Deflected  100.000000\n",
       "3                 Cathay  Deflected   94.285714\n",
       "4                    TRU  Deflected   90.978078\n",
       "5   Harbor Freight Tools  Deflected   90.480000\n",
       "6                 Zulily  Deflected   90.192113\n",
       "7                Rakuten  Deflected   89.723320\n",
       "8                   Belk  Deflected   89.506494\n",
       "9              Walgreens  Deflected   88.988764\n",
       "10                   JCP  Deflected   88.504858\n",
       "11               At Home  Deflected   88.486141\n",
       "12                   TJX  Deflected   88.334888\n",
       "13                   AEO  Deflected   88.162544\n",
       "14          ScoreRewards  Deflected   87.753304\n",
       "15               OldNavy  Deflected   87.101837\n",
       "16                Amazon  Deflected   86.466226\n",
       "17             CheapOair  Deflected   86.178862\n",
       "18                ShopHQ  Deflected   85.915493\n",
       "19                  Sams  Deflected   85.545489\n",
       "20                 Lowes  Deflected   85.422124\n",
       "21             Steinmart  Deflected   85.365854\n",
       "22                    BP  Deflected   84.826133\n",
       "23                Ebaycb  Deflected   84.754376\n",
       "24                   GAP  Deflected   84.003404\n",
       "25     Verizon Visa Card  Deflected   83.771712\n",
       "26               Athleta  Deflected   83.718372\n",
       "27                    BR  Deflected   83.342289\n",
       "28                Nissan  Deflected   80.000000\n",
       "29             PSCC-PLCC  Deflected   79.411765\n",
       "30           CrateBarrel  Deflected   79.336188\n",
       "31         PayPal Credit  Deflected   79.289828\n",
       "32                Marvel  Deflected   77.777778\n",
       "33                Google  Deflected   76.623377\n",
       "34                Paypal  Deflected   73.045822\n",
       "35       Consumer Center  Deflected   70.978058\n",
       "36      Norwegian Reward  Deflected   50.000000"
      ]
     },
     "execution_count": 24,
     "metadata": {},
     "output_type": "execute_result"
    }
   ],
   "source": [
    "deff[deff['CHAT_TYPE'] == 'Deflected']"
   ]
  },
  {
   "cell_type": "code",
   "execution_count": 25,
   "metadata": {},
   "outputs": [
    {
     "data": {
      "image/png": "[encoded data removed]",
      "text/plain": [
       "<Figure size 432x288 with 1 Axes>"
      ]
     },
     "metadata": {
      "needs_background": "light"
     },
     "output_type": "display_data"
    }
   ],
   "source": [
    "sns.distplot(singlechatdf['calltime'],kde=False)\n",
    "plt.show()"
   ]
  },
  {
   "cell_type": "code",
   "execution_count": 26,
   "metadata": {},
   "outputs": [
    {
     "data": {
      "image/png": "[encoded data removed]",
      "text/plain": [
       "<Figure size 432x288 with 1 Axes>"
      ]
     },
     "metadata": {
      "needs_background": "light"
     },
     "output_type": "display_data"
    }
   ],
   "source": [
    "plt.hist(singlechatdf[(singlechatdf['calltime']<=singlechatdf['calltime'].quantile(0.975))&(singlechatdf['calltime']>=singlechatdf['calltime'].quantile(0.025))]['calltime'])\n",
    "plt.xlabel('Duration (in seconds)')\n",
    "plt.ylabel('Frequency')\n",
    "plt.title('Call Duration (2.5%, 97.5%)')\n",
    "plt.show()"
   ]
  },
  {
   "cell_type": "code",
   "execution_count": 27,
   "metadata": {},
   "outputs": [
    {
     "data": {
      "text/plain": [
       "8.879137725000001"
      ]
     },
     "execution_count": 27,
     "metadata": {},
     "output_type": "execute_result"
    }
   ],
   "source": [
    "singlechatdf['calltime'].quantile(0.025)"
   ]
  },
  {
   "cell_type": "code",
   "execution_count": 28,
   "metadata": {},
   "outputs": [
    {
     "data": {
      "text/plain": [
       "1354.5288738249994"
      ]
     },
     "execution_count": 28,
     "metadata": {},
     "output_type": "execute_result"
    }
   ],
   "source": [
    "singlechatdf['calltime'].quantile(0.975)"
   ]
  },
  {
   "cell_type": "markdown",
   "metadata": {},
   "source": [
    "## Unsupervised Sentiment Analysis with KMeans Clustering"
   ]
  },
  {
   "cell_type": "code",
   "execution_count": 29,
   "metadata": {},
   "outputs": [
    {
     "name": "stderr",
     "output_type": "stream",
     "text": [
      "[nltk_data] Downloading package stopwords to\n",
      "[nltk_data]     C:\\Users\\Admin\\AppData\\Roaming\\nltk_data...\n",
      "[nltk_data]   Unzipping corpora\\stopwords.zip.\n"
     ]
    }
   ],
   "source": [
    "nltk.download('stopwords')\n",
    "all_stopwords = stopwords.words('english')\n",
    "all_stopwords.remove('not')"
   ]
  },
  {
   "cell_type": "code",
   "execution_count": 30,
   "metadata": {},
   "outputs": [],
   "source": [
    "onlyinput = df.groupby(['IVA_CHAT_ID'])['INPUT'].apply(' '.join).reset_index().drop('IVA_CHAT_ID', axis=1)"
   ]
  },
  {
   "cell_type": "code",
   "execution_count": 31,
   "metadata": {},
   "outputs": [],
   "source": [
    "corpus=[]\n",
    "\n",
    "for i in range(0, len(onlyinput)):\n",
    "\n",
    "  inp = re.sub(r'[^a-zA-Z ]+', ' ', onlyinput['INPUT'].iloc[i])\n",
    "  inp = inp.lower()\n",
    "  inp = inp.split()\n",
    "  inp = [ps.stem(word) for word in inp if not word in set(all_stopwords)]\n",
    "  inp = ' '.join(inp)\n",
    "  corpus.append(inp)"
   ]
  },
  {
   "cell_type": "code",
   "execution_count": 32,
   "metadata": {},
   "outputs": [],
   "source": [
    "sent = corpus.copy()\n",
    "phrases = Phrases(sent)\n",
    "bigram = Phraser(phrases)\n",
    "sentences = bigram[sent]"
   ]
  },
  {
   "cell_type": "code",
   "execution_count": 64,
   "metadata": {},
   "outputs": [],
   "source": [
    "w2v_model = Word2Vec(min_count=8, window=6,\n",
    "                     alpha=0.03, min_alpha=0.0007, \n",
    "                     workers=multiprocessing.cpu_count()-1)\n",
    "\n",
    "w2v_model.build_vocab(sentences)"
   ]
  },
  {
   "cell_type": "code",
   "execution_count": 65,
   "metadata": {},
   "outputs": [
    {
     "data": {
      "text/plain": [
       "(117096085, 701388300)"
      ]
     },
     "execution_count": 65,
     "metadata": {},
     "output_type": "execute_result"
    }
   ],
   "source": [
    "w2v_model.train(sentences, total_examples=w2v_model.corpus_count, epochs=20)"
   ]
  },
  {
   "cell_type": "code",
   "execution_count": 66,
   "metadata": {},
   "outputs": [],
   "source": [
    "word_vectors = w2v_model.wv\n",
    "model = KMeans(n_clusters=2).fit(X=word_vectors.vectors.astype('double'))"
   ]
  },
  {
   "cell_type": "code",
   "execution_count": 67,
   "metadata": {},
   "outputs": [],
   "source": [
    "positive_cluster_center = model.cluster_centers_[1]\n",
    "negative_cluster_center = model.cluster_centers_[0]"
   ]
  },
  {
   "cell_type": "code",
   "execution_count": 68,
   "metadata": {},
   "outputs": [],
   "source": [
    "words = pd.DataFrame(word_vectors.index_to_key)\n",
    "words.columns = ['words']\n",
    "words['vectors'] = words.words.apply(lambda x: word_vectors[f'{x}'])\n",
    "words['cluster'] = words.vectors.apply(lambda x: model.predict([np.array(x)]))\n",
    "words.cluster = words.cluster.apply(lambda x: x[0])"
   ]
  },
  {
   "cell_type": "code",
   "execution_count": 69,
   "metadata": {},
   "outputs": [],
   "source": [
    "words['cluster_value'] = [1 if i==1 else -1 for i in words.cluster]\n",
    "words['closeness_score'] = words.apply(lambda x: 1/(model.transform([x.vectors]).min()), axis=1)\n",
    "words['sentiment_coeff'] = words.closeness_score * words.cluster_value"
   ]
  },
  {
   "cell_type": "code",
   "execution_count": 70,
   "metadata": {},
   "outputs": [],
   "source": [
    "sentiment_map = words[['words', 'sentiment_coeff']]\n",
    "sentiment_dict = dict(zip(sentiment_map.words.values, sentiment_map.sentiment_coeff.values))\n",
    "weights = onlyinput.copy()"
   ]
  },
  {
   "cell_type": "markdown",
   "metadata": {},
   "source": [
    "## Prediction"
   ]
  },
  {
   "cell_type": "code",
   "execution_count": 71,
   "metadata": {},
   "outputs": [
    {
     "name": "stderr",
     "output_type": "stream",
     "text": [
      "E:\\miniconda3\\lib\\site-packages\\sklearn\\feature_extraction\\text.py:489: UserWarning: The parameter 'token_pattern' will not be used since 'tokenizer' is not None'\n",
      "  warnings.warn(\"The parameter 'token_pattern' will not be used\"\n"
     ]
    }
   ],
   "source": [
    "tfidf = TfidfVectorizer(tokenizer=lambda y: y.split(), norm=None)\n",
    "tfidf.fit(weights.INPUT)\n",
    "features = pd.Series(tfidf.get_feature_names())\n",
    "transformed = tfidf.transform(weights.INPUT)"
   ]
  },
  {
   "cell_type": "code",
   "execution_count": 72,
   "metadata": {},
   "outputs": [],
   "source": [
    "def create_tfidf_dictionary(x, transformed_file, features):\n",
    "    '''\n",
    "    create dictionary for each input sentence x, where each word has assigned its tfidf score\n",
    "    \n",
    "    x - row of dataframe, containing sentences, and their indexes,\n",
    "    transformed_file - all sentences transformed with TfidfVectorizer\n",
    "    features - names of all words in corpus used in TfidfVectorizer\n",
    "    '''\n",
    "    vector_coo = transformed_file[x.name].tocoo()\n",
    "    vector_coo.col = features.iloc[vector_coo.col].values\n",
    "    dict_from_coo = dict(zip(vector_coo.col, vector_coo.data))\n",
    "    return dict_from_coo\n",
    "\n",
    "def replace_tfidf_words(x, transformed_file, features):\n",
    "    '''\n",
    "    replacing each word with it's calculated tfidf dictionary with scores of each word\n",
    "    x - row of dataframe, containing sentences, and their indexes,\n",
    "    transformed_file - all sentences transformed with TfidfVectorizer\n",
    "    features - names of all words in corpus used in TfidfVectorizer\n",
    "    '''\n",
    "    dictionary = create_tfidf_dictionary(x, transformed_file, features)   \n",
    "    return list(map(lambda y:dictionary[f'{y}'], x.INPUT.lower().split()))\n",
    "\n",
    "def replace_sentiment_words(word, sentiment_dict):\n",
    "    '''\n",
    "    replacing each word with its associated sentiment score from sentiment dict\n",
    "    '''\n",
    "    try:\n",
    "        out = sentiment_dict[word]\n",
    "    except KeyError:\n",
    "        out = 0\n",
    "    return out"
   ]
  },
  {
   "cell_type": "code",
   "execution_count": 73,
   "metadata": {},
   "outputs": [],
   "source": [
    "replaced_tfidf_scores = weights.apply(lambda x: replace_tfidf_words(x, transformed, features), axis=1)\n",
    "\n",
    "replaced_closeness_scores = weights.INPUT.apply(lambda x: list(map(lambda y: replace_sentiment_words(y, sentiment_dict), x.split())))"
   ]
  },
  {
   "cell_type": "code",
   "execution_count": 74,
   "metadata": {},
   "outputs": [],
   "source": [
    "sentiment_df = pd.DataFrame(data=[replaced_closeness_scores, replaced_tfidf_scores]).T\n",
    "sentiment_df.columns = ['sentiment_coeff', 'tfidf_scores']\n",
    "sentiment_df['sentiment_rate'] = sentiment_df.apply(lambda x: np.array(x.loc['sentiment_coeff']) @ np.array(x.loc['tfidf_scores']), axis=1)\n",
    "sentiment_df['prediction'] = (sentiment_df.sentiment_rate>0).astype('int8')"
   ]
  },
  {
   "cell_type": "code",
   "execution_count": 75,
   "metadata": {},
   "outputs": [
    {
     "data": {
      "text/plain": [
       "0    132624\n",
       "1     93926\n",
       "Name: prediction, dtype: int64"
      ]
     },
     "execution_count": 75,
     "metadata": {},
     "output_type": "execute_result"
    }
   ],
   "source": [
    "sentiment_df['prediction'].value_counts()"
   ]
  },
  {
   "cell_type": "code",
   "execution_count": 184,
   "metadata": {
    "scrolled": true
   },
   "outputs": [
    {
     "data": {
      "text/html": [
       "<div>\n",
       "<style scoped>\n",
       "    .dataframe tbody tr th:only-of-type {\n",
       "        vertical-align: middle;\n",
       "    }\n",
       "\n",
       "    .dataframe tbody tr th {\n",
       "        vertical-align: top;\n",
       "    }\n",
       "\n",
       "    .dataframe thead th {\n",
       "        text-align: right;\n",
       "    }\n",
       "</style>\n",
       "<table border=\"1\" class=\"dataframe\">\n",
       "  <thead>\n",
       "    <tr style=\"text-align: right;\">\n",
       "      <th></th>\n",
       "      <th>CHAT_TYPE</th>\n",
       "      <th>calltime</th>\n",
       "      <th>prediction</th>\n",
       "    </tr>\n",
       "  </thead>\n",
       "  <tbody>\n",
       "    <tr>\n",
       "      <th>0</th>\n",
       "      <td>Deflected</td>\n",
       "      <td>13.638235</td>\n",
       "      <td>1</td>\n",
       "    </tr>\n",
       "    <tr>\n",
       "      <th>1</th>\n",
       "      <td>Deflected</td>\n",
       "      <td>91.914486</td>\n",
       "      <td>0</td>\n",
       "    </tr>\n",
       "    <tr>\n",
       "      <th>2</th>\n",
       "      <td>Deflected</td>\n",
       "      <td>22.916657</td>\n",
       "      <td>0</td>\n",
       "    </tr>\n",
       "    <tr>\n",
       "      <th>3</th>\n",
       "      <td>Deflected</td>\n",
       "      <td>661.647362</td>\n",
       "      <td>0</td>\n",
       "    </tr>\n",
       "    <tr>\n",
       "      <th>4</th>\n",
       "      <td>Deflected</td>\n",
       "      <td>88.256782</td>\n",
       "      <td>0</td>\n",
       "    </tr>\n",
       "  </tbody>\n",
       "</table>\n",
       "</div>"
      ],
      "text/plain": [
       "   CHAT_TYPE    calltime  prediction\n",
       "0  Deflected   13.638235           1\n",
       "1  Deflected   91.914486           0\n",
       "2  Deflected   22.916657           0\n",
       "3  Deflected  661.647362           0\n",
       "4  Deflected   88.256782           0"
      ]
     },
     "execution_count": 184,
     "metadata": {},
     "output_type": "execute_result"
    }
   ],
   "source": [
    "final = pd.concat((singlechatdf, sentiment_df), axis=1)[['CHAT_TYPE', 'calltime', 'prediction']]\n",
    "final.head()"
   ]
  },
  {
   "cell_type": "code",
   "execution_count": 186,
   "metadata": {},
   "outputs": [
    {
     "data": {
      "text/plain": [
       "CHAT_TYPE  prediction\n",
       "Deflected  0             112885\n",
       "           1              73665\n",
       "LiveChat   1              20261\n",
       "           0              19739\n",
       "Name: prediction, dtype: int64"
      ]
     },
     "execution_count": 186,
     "metadata": {},
     "output_type": "execute_result"
    }
   ],
   "source": [
    "final.groupby('CHAT_TYPE')['prediction'].value_counts()"
   ]
  },
  {
   "cell_type": "code",
   "execution_count": 185,
   "metadata": {},
   "outputs": [
    {
     "data": {
      "image/png": "[encoded data removed]",
      "text/plain": [
       "<Figure size 432x288 with 1 Axes>"
      ]
     },
     "metadata": {
      "needs_background": "light"
     },
     "output_type": "display_data"
    }
   ],
   "source": [
    "sns.boxplot(y=\"calltime\",x=\"CHAT_TYPE\",hue=\"prediction\", data=final)\n",
    "plt.show()"
   ]
  }
 ],
 "metadata": {
  "colab": {
   "collapsed_sections": [],
   "name": "Datathon 2022 Project",
   "provenance": []
  },
  "kernelspec": {
   "display_name": "Python 3",
   "language": "python",
   "name": "python3"
  },
  "language_info": {
   "codemirror_mode": {
    "name": "ipython",
    "version": 3
   },
   "file_extension": ".py",
   "mimetype": "text/x-python",
   "name": "python",
   "nbconvert_exporter": "python",
   "pygments_lexer": "ipython3",
   "version": "3.9.7"
  }
 },
 "nbformat": 4,
 "nbformat_minor": 1
}
